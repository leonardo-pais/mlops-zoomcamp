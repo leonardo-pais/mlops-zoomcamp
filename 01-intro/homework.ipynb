{
 "cells": [
  {
   "cell_type": "code",
   "execution_count": 53,
   "id": "79bae747-7bd4-4365-9f7a-88645774c375",
   "metadata": {},
   "outputs": [],
   "source": [
    "import pandas as pd\n",
    "\n",
    "import pickle\n",
    "import seaborn as sns\n",
    "import matplotlib.pyplot as plt\n",
    "\n",
    "from sklearn.feature_extraction import DictVectorizer\n",
    "from sklearn.linear_model import LinearRegression\n",
    "from sklearn.linear_model import Lasso\n",
    "from sklearn.linear_model import Ridge\n",
    "\n",
    "from sklearn.metrics import root_mean_squared_error"
   ]
  },
  {
   "cell_type": "code",
   "execution_count": 54,
   "id": "8f3cac0c-26b9-485e-b061-2cb931825b53",
   "metadata": {},
   "outputs": [],
   "source": [
    "def read_dataframe(filename):\n",
    "    df = pd.read_parquet(filename)\n",
    "    print(f'Number of columns: {df.shape[1]}')\n",
    "    \n",
    "    df['duration'] = df.tpep_dropoff_datetime - df.tpep_pickup_datetime\n",
    "    df.duration = df.duration.apply(lambda td: td.total_seconds() / 60)\n",
    "    print(f'Standard Deviation: {df.duration.std()}')\n",
    "\n",
    "    df_outliers = df.copy()\n",
    "\n",
    "    df_outliers = df_outliers[(df_outliers.duration >= 1) & (df_outliers.duration <= 60)]\n",
    "    print(f'Fraction of the records left after outliers dropped: {df_outliers.shape[0] / df.shape[0]}')\n",
    "\n",
    "    categorical = ['PULocationID', 'DOLocationID']\n",
    "    df_outliers[categorical] = df_outliers[categorical].astype(str)\n",
    "    \n",
    "    return df_outliers"
   ]
  },
  {
   "cell_type": "code",
   "execution_count": 26,
   "id": "7841e905-5a82-4c3a-8777-604be6cf6662",
   "metadata": {},
   "outputs": [
    {
     "name": "stdout",
     "output_type": "stream",
     "text": [
      "Number of columns: 19\n",
      "Standard Deviation: 42.59435124195458\n",
      "Fraction of the records left after outliers dropped: 0.9812202822125979\n",
      "Number of columns: 19\n",
      "Standard Deviation: 42.84210176105113\n",
      "Fraction of the records left after outliers dropped: 0.9800944077722545\n"
     ]
    }
   ],
   "source": [
    "df_train = read_dataframe('https://d37ci6vzurychx.cloudfront.net/trip-data/yellow_tripdata_2023-01.parquet')\n",
    "df_val = read_dataframe('https://d37ci6vzurychx.cloudfront.net/trip-data/yellow_tripdata_2023-02.parquet')"
   ]
  },
  {
   "cell_type": "code",
   "execution_count": 46,
   "id": "57de72e1-f6f2-4212-8994-873d5209515b",
   "metadata": {},
   "outputs": [],
   "source": [
    "categorical = ['PULocationID', 'DOLocationID']\n",
    "\n",
    "dv = DictVectorizer()\n",
    "\n",
    "train_dicts = df_train[categorical].to_dict(orient='records')\n",
    "X_train = dv.fit_transform(train_dicts)\n",
    "\n",
    "val_dicts = df_val[categorical].to_dict(orient='records')\n",
    "X_val = dv.transform(val_dicts)"
   ]
  },
  {
   "cell_type": "code",
   "execution_count": 47,
   "id": "72222a81-2939-4812-82a9-ef47b4166f3a",
   "metadata": {},
   "outputs": [
    {
     "name": "stdout",
     "output_type": "stream",
     "text": [
      "Dimensionality of this matrix: 515\n"
     ]
    }
   ],
   "source": [
    "print(f'Dimensionality of this matrix: {X_train.shape[1]}')"
   ]
  },
  {
   "cell_type": "code",
   "execution_count": 48,
   "id": "0f688e7e-aa1e-4cb3-bab9-259a28422001",
   "metadata": {},
   "outputs": [],
   "source": [
    "target = 'duration'\n",
    "y_train = df_train[target].values\n",
    "y_val = df_val[target].values"
   ]
  },
  {
   "cell_type": "code",
   "execution_count": 51,
   "id": "e35424ae-44c3-4631-b483-c2215878d661",
   "metadata": {},
   "outputs": [
    {
     "data": {
      "text/plain": [
       "7.649261822035489"
      ]
     },
     "execution_count": 51,
     "metadata": {},
     "output_type": "execute_result"
    }
   ],
   "source": [
    "lr = LinearRegression()\n",
    "lr.fit(X_train, y_train)\n",
    "\n",
    "y_pred = lr.predict(X_train)\n",
    "\n",
    "root_mean_squared_error(y_train, y_pred)"
   ]
  },
  {
   "cell_type": "code",
   "execution_count": 52,
   "id": "06c9f60e-9c6f-4573-9804-8e9ea6ed3a37",
   "metadata": {},
   "outputs": [
    {
     "data": {
      "text/plain": [
       "7.811821332387183"
      ]
     },
     "execution_count": 52,
     "metadata": {},
     "output_type": "execute_result"
    }
   ],
   "source": [
    "lr = LinearRegression()\n",
    "lr.fit(X_train, y_train)\n",
    "\n",
    "y_pred = lr.predict(X_val)\n",
    "\n",
    "root_mean_squared_error(y_val, y_pred)"
   ]
  }
 ],
 "metadata": {
  "kernelspec": {
   "display_name": "Python 3 (ipykernel)",
   "language": "python",
   "name": "python3"
  },
  "language_info": {
   "codemirror_mode": {
    "name": "ipython",
    "version": 3
   },
   "file_extension": ".py",
   "mimetype": "text/x-python",
   "name": "python",
   "nbconvert_exporter": "python",
   "pygments_lexer": "ipython3",
   "version": "3.13.2"
  }
 },
 "nbformat": 4,
 "nbformat_minor": 5
}
